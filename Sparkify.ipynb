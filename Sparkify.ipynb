{
 "cells": [
  {
   "cell_type": "markdown",
   "metadata": {},
   "source": [
    "# Sparkify Project Workspace\n",
    "This workspace contains a tiny subset (128MB) of the full dataset available (12GB). Feel free to use this workspace to build your project, or to explore a smaller subset with Spark before deploying your cluster on the cloud. Instructions for setting up your Spark cluster is included in the last lesson of the Extracurricular Spark Course content.\n",
    "\n",
    "You can follow the steps below to guide your data analysis and model building portion of this project."
   ]
  },
  {
   "cell_type": "code",
   "execution_count": 144,
   "metadata": {},
   "outputs": [],
   "source": [
    "# import libraries\n",
    "from pyspark.sql import SparkSession, Window\n",
    "from pyspark.sql.functions import avg, col, min, max, split, udf, isnan, when, count, desc\n",
    "from pyspark.sql.functions import sum as Fsum\n",
    "from pyspark.ml.feature import MinMaxScaler, VectorAssembler\n",
    "from pyspark.sql.types import IntegerType\n",
    "from pyspark.ml import Pipeline\n",
    "from pyspark.ml.classification import LogisticRegression, RandomForestClassifier, LinearSVC, GBTClassifier\n",
    "from pyspark.ml.evaluation import  MulticlassClassificationEvaluator\n",
    "from pyspark.ml.tuning import CrossValidator, ParamGridBuilder\n",
    "\n",
    "import re\n",
    "import plotly \n",
    "import matplotlib.pyplot as plt\n",
    "import seaborn as sns\n"
   ]
  },
  {
   "cell_type": "code",
   "execution_count": 51,
   "metadata": {},
   "outputs": [],
   "source": [
    "# create a Spark session\n",
    "sc = SparkSession.builder \\\n",
    "    .appName(\"SparkifyProject\") \\\n",
    "    .getOrCreate()"
   ]
  },
  {
   "cell_type": "markdown",
   "metadata": {},
   "source": [
    "# Load and Clean Dataset\n",
    "In this workspace, the mini-dataset file is `mini_sparkify_event_data.json`. Load and clean the dataset, checking for invalid or missing data - for example, records without userids or sessionids. "
   ]
  },
  {
   "cell_type": "code",
   "execution_count": 52,
   "metadata": {},
   "outputs": [],
   "source": [
    "df = sc.read.json('mini_sparkify_event_data.json')"
   ]
  },
  {
   "cell_type": "code",
   "execution_count": 53,
   "metadata": {
    "scrolled": true
   },
   "outputs": [
    {
     "name": "stdout",
     "output_type": "stream",
     "text": [
      "root\n",
      " |-- artist: string (nullable = true)\n",
      " |-- auth: string (nullable = true)\n",
      " |-- firstName: string (nullable = true)\n",
      " |-- gender: string (nullable = true)\n",
      " |-- itemInSession: long (nullable = true)\n",
      " |-- lastName: string (nullable = true)\n",
      " |-- length: double (nullable = true)\n",
      " |-- level: string (nullable = true)\n",
      " |-- location: string (nullable = true)\n",
      " |-- method: string (nullable = true)\n",
      " |-- page: string (nullable = true)\n",
      " |-- registration: long (nullable = true)\n",
      " |-- sessionId: long (nullable = true)\n",
      " |-- song: string (nullable = true)\n",
      " |-- status: long (nullable = true)\n",
      " |-- ts: long (nullable = true)\n",
      " |-- userAgent: string (nullable = true)\n",
      " |-- userId: string (nullable = true)\n",
      "\n"
     ]
    }
   ],
   "source": [
    "df.printSchema()"
   ]
  },
  {
   "cell_type": "code",
   "execution_count": 54,
   "metadata": {
    "scrolled": true
   },
   "outputs": [
    {
     "name": "stdout",
     "output_type": "stream",
     "text": [
      "Structure: 286500 Rows, 18 Columns\n"
     ]
    }
   ],
   "source": [
    "print('Structure: {} Rows, {} Columns'.format(df.count(), len(df.columns)))"
   ]
  },
  {
   "cell_type": "code",
   "execution_count": 55,
   "metadata": {
    "scrolled": false
   },
   "outputs": [
    {
     "data": {
      "text/html": [
       "<div>\n",
       "<style scoped>\n",
       "    .dataframe tbody tr th:only-of-type {\n",
       "        vertical-align: middle;\n",
       "    }\n",
       "\n",
       "    .dataframe tbody tr th {\n",
       "        vertical-align: top;\n",
       "    }\n",
       "\n",
       "    .dataframe thead th {\n",
       "        text-align: right;\n",
       "    }\n",
       "</style>\n",
       "<table border=\"1\" class=\"dataframe\">\n",
       "  <thead>\n",
       "    <tr style=\"text-align: right;\">\n",
       "      <th></th>\n",
       "      <th>0</th>\n",
       "    </tr>\n",
       "  </thead>\n",
       "  <tbody>\n",
       "    <tr>\n",
       "      <th>artist</th>\n",
       "      <td>58392</td>\n",
       "    </tr>\n",
       "    <tr>\n",
       "      <th>auth</th>\n",
       "      <td>0</td>\n",
       "    </tr>\n",
       "    <tr>\n",
       "      <th>firstName</th>\n",
       "      <td>8346</td>\n",
       "    </tr>\n",
       "    <tr>\n",
       "      <th>gender</th>\n",
       "      <td>8346</td>\n",
       "    </tr>\n",
       "    <tr>\n",
       "      <th>itemInSession</th>\n",
       "      <td>0</td>\n",
       "    </tr>\n",
       "    <tr>\n",
       "      <th>lastName</th>\n",
       "      <td>8346</td>\n",
       "    </tr>\n",
       "    <tr>\n",
       "      <th>length</th>\n",
       "      <td>58392</td>\n",
       "    </tr>\n",
       "    <tr>\n",
       "      <th>level</th>\n",
       "      <td>0</td>\n",
       "    </tr>\n",
       "    <tr>\n",
       "      <th>location</th>\n",
       "      <td>8346</td>\n",
       "    </tr>\n",
       "    <tr>\n",
       "      <th>method</th>\n",
       "      <td>0</td>\n",
       "    </tr>\n",
       "    <tr>\n",
       "      <th>page</th>\n",
       "      <td>0</td>\n",
       "    </tr>\n",
       "    <tr>\n",
       "      <th>registration</th>\n",
       "      <td>8346</td>\n",
       "    </tr>\n",
       "    <tr>\n",
       "      <th>sessionId</th>\n",
       "      <td>0</td>\n",
       "    </tr>\n",
       "    <tr>\n",
       "      <th>song</th>\n",
       "      <td>58392</td>\n",
       "    </tr>\n",
       "    <tr>\n",
       "      <th>status</th>\n",
       "      <td>0</td>\n",
       "    </tr>\n",
       "    <tr>\n",
       "      <th>ts</th>\n",
       "      <td>0</td>\n",
       "    </tr>\n",
       "    <tr>\n",
       "      <th>userAgent</th>\n",
       "      <td>8346</td>\n",
       "    </tr>\n",
       "    <tr>\n",
       "      <th>userId</th>\n",
       "      <td>0</td>\n",
       "    </tr>\n",
       "  </tbody>\n",
       "</table>\n",
       "</div>"
      ],
      "text/plain": [
       "                   0\n",
       "artist         58392\n",
       "auth               0\n",
       "firstName       8346\n",
       "gender          8346\n",
       "itemInSession      0\n",
       "lastName        8346\n",
       "length         58392\n",
       "level              0\n",
       "location        8346\n",
       "method             0\n",
       "page               0\n",
       "registration    8346\n",
       "sessionId          0\n",
       "song           58392\n",
       "status             0\n",
       "ts                 0\n",
       "userAgent       8346\n",
       "userId             0"
      ]
     },
     "execution_count": 55,
     "metadata": {},
     "output_type": "execute_result"
    }
   ],
   "source": [
    "# Get null values count\n",
    "df.select([count(when(col(c).isNull(), c)).alias(c) for c in \n",
    "           df.columns]).toPandas().transpose()"
   ]
  },
  {
   "cell_type": "code",
   "execution_count": 56,
   "metadata": {},
   "outputs": [
    {
     "data": {
      "text/plain": [
       "8346"
      ]
     },
     "execution_count": 56,
     "metadata": {},
     "output_type": "execute_result"
    }
   ],
   "source": [
    "df.where(df.userId == '').count()"
   ]
  },
  {
   "cell_type": "code",
   "execution_count": 57,
   "metadata": {
    "scrolled": true
   },
   "outputs": [
    {
     "data": {
      "text/plain": [
       "[Row(artist=None, auth='Logged Out', firstName=None, gender=None, itemInSession=100, lastName=None, length=None, level='free', location=None, method='GET', page='Home', registration=None, sessionId=8, song=None, status=200, ts=1538355745000, userAgent=None, userId=''),\n",
       " Row(artist=None, auth='Logged Out', firstName=None, gender=None, itemInSession=101, lastName=None, length=None, level='free', location=None, method='GET', page='Help', registration=None, sessionId=8, song=None, status=200, ts=1538355807000, userAgent=None, userId=''),\n",
       " Row(artist=None, auth='Logged Out', firstName=None, gender=None, itemInSession=102, lastName=None, length=None, level='free', location=None, method='GET', page='Home', registration=None, sessionId=8, song=None, status=200, ts=1538355841000, userAgent=None, userId=''),\n",
       " Row(artist=None, auth='Logged Out', firstName=None, gender=None, itemInSession=103, lastName=None, length=None, level='free', location=None, method='PUT', page='Login', registration=None, sessionId=8, song=None, status=307, ts=1538355842000, userAgent=None, userId=''),\n",
       " Row(artist=None, auth='Logged Out', firstName=None, gender=None, itemInSession=2, lastName=None, length=None, level='free', location=None, method='GET', page='Home', registration=None, sessionId=240, song=None, status=200, ts=1538356678000, userAgent=None, userId='')]"
      ]
     },
     "execution_count": 57,
     "metadata": {},
     "output_type": "execute_result"
    }
   ],
   "source": [
    "# Blank users pertain to Logged Out events\n",
    "df.where(df.userId == '').take(5)"
   ]
  },
  {
   "cell_type": "code",
   "execution_count": 58,
   "metadata": {},
   "outputs": [],
   "source": [
    "# Drop blank users and sessions\n",
    "df = df.dropna(how = \"any\", subset = [\"userId\", \"sessionId\"])"
   ]
  },
  {
   "cell_type": "markdown",
   "metadata": {},
   "source": [
    "# Exploratory Data Analysis\n",
    "When you're working with the full dataset, perform EDA by loading a small subset of the data and doing basic manipulations within Spark. In this workspace, you are already provided a small subset of data you can explore.\n",
    "\n",
    "### Define Churn\n",
    "\n",
    "Once you've done some preliminary analysis, create a column `Churn` to use as the label for your model. I suggest using the `Cancellation Confirmation` events to define your churn, which happen for both paid and free users. As a bonus task, you can also look into the `Downgrade` events.\n",
    "\n",
    "### Explore Data\n",
    "Once you've defined churn, perform some exploratory data analysis to observe the behavior for users who stayed vs users who churned. You can start by exploring aggregates on these two groups of users, observing how much of a specific action they experienced per a certain time unit or number of songs played."
   ]
  },
  {
   "cell_type": "markdown",
   "metadata": {},
   "source": [
    "## User exploration \n",
    "- How many unique users do we have?\n",
    "- What is the gender distribution?\n",
    "\n",
    "## Activity exploration\n",
    "- What are the most played songs?\n",
    "- What are the most played artists?"
   ]
  },
  {
   "cell_type": "code",
   "execution_count": 59,
   "metadata": {},
   "outputs": [],
   "source": [
    "# Create temporary view for data manipulation and exploration usign SQL\n",
    "df.createOrReplaceTempView(\"sparkify_data\")"
   ]
  },
  {
   "cell_type": "code",
   "execution_count": 60,
   "metadata": {},
   "outputs": [
    {
     "name": "stdout",
     "output_type": "stream",
     "text": [
      "+---------+\n",
      "| count(1)|\n",
      "+---------+\n",
      "|809475444|\n",
      "+---------+\n",
      "\n"
     ]
    }
   ],
   "source": [
    "sc.sql('select count(*) from sparkify_data a \\\n",
    "join sparkify_data b on a.userId = b.userId').show()"
   ]
  },
  {
   "cell_type": "code",
   "execution_count": 61,
   "metadata": {},
   "outputs": [
    {
     "name": "stdout",
     "output_type": "stream",
     "text": [
      "+-----------+\n",
      "|Total_Users|\n",
      "+-----------+\n",
      "|        226|\n",
      "+-----------+\n",
      "\n"
     ]
    }
   ],
   "source": [
    "# How many unique users do we have?\n",
    "sc.sql('Select count (distinct userId) as Total_Users from sparkify_data').show()"
   ]
  },
  {
   "cell_type": "code",
   "execution_count": 62,
   "metadata": {},
   "outputs": [
    {
     "name": "stdout",
     "output_type": "stream",
     "text": [
      "+------+----------------------+\n",
      "|gender|count(DISTINCT userId)|\n",
      "+------+----------------------+\n",
      "|     F|                   104|\n",
      "|  null|                     1|\n",
      "|     M|                   121|\n",
      "+------+----------------------+\n",
      "\n"
     ]
    }
   ],
   "source": [
    "# What is the gender distribution?\n",
    "sc.sql('Select gender, count(distinct userId) from sparkify_data \\\n",
    "group by gender').show()"
   ]
  },
  {
   "cell_type": "code",
   "execution_count": 63,
   "metadata": {},
   "outputs": [
    {
     "name": "stdout",
     "output_type": "stream",
     "text": [
      "+-----+\n",
      "|level|\n",
      "+-----+\n",
      "| free|\n",
      "| paid|\n",
      "+-----+\n",
      "\n"
     ]
    }
   ],
   "source": [
    "sc.sql('select distinct level from sparkify_data').show()"
   ]
  },
  {
   "cell_type": "code",
   "execution_count": 64,
   "metadata": {},
   "outputs": [
    {
     "data": {
      "text/plain": [
       "(array([0, 1, 2, 3, 4, 5, 6, 7, 8, 9]), <a list of 10 Text xticklabel objects>)"
      ]
     },
     "execution_count": 64,
     "metadata": {},
     "output_type": "execute_result"
    },
    {
     "data": {
      "image/png": "[encoded data removed]",
      "text/plain": [
       "<matplotlib.figure.Figure at 0x7ff7c04a3860>"
      ]
     },
     "metadata": {
      "needs_background": "light"
     },
     "output_type": "display_data"
    }
   ],
   "source": [
    "# What are the most played artists\n",
    "artists = sc.sql('Select artist, count(artist) as total_songs from sparkify_data \\\n",
    "group by artist \\\n",
    "order by total_songs desc \\\n",
    "limit 10').toPandas()\n",
    "\n",
    "sns.barplot('artist', 'total_songs', data= artists)\n",
    "plt.title('Top 10 Artists')\n",
    "plt.xticks(rotation = 90)"
   ]
  },
  {
   "cell_type": "code",
   "execution_count": 65,
   "metadata": {
    "scrolled": true
   },
   "outputs": [
    {
     "data": {
      "text/plain": [
       "(array([0, 1, 2, 3, 4, 5, 6, 7, 8, 9]), <a list of 10 Text xticklabel objects>)"
      ]
     },
     "execution_count": 65,
     "metadata": {},
     "output_type": "execute_result"
    },
    {
     "data": {
      "image/png": "[encoded data removed]",
      "text/plain": [
       "<matplotlib.figure.Figure at 0x7ff7c0497160>"
      ]
     },
     "metadata": {
      "needs_background": "light"
     },
     "output_type": "display_data"
    }
   ],
   "source": [
    "# What are the most played songs?\n",
    "songs = sc.sql('select song, count(song) as plays from sparkify_data \\\n",
    "group by song \\\n",
    "order by plays desc \\\n",
    "limit 10').toPandas()\n",
    "\n",
    "sns.barplot('song', 'plays', data= songs)\n",
    "plt.title('Top 10 Most Played Songs')\n",
    "plt.xticks(rotation = 90)"
   ]
  },
  {
   "cell_type": "code",
   "execution_count": 66,
   "metadata": {},
   "outputs": [
    {
     "name": "stdout",
     "output_type": "stream",
     "text": [
      "+--------------------+\n",
      "|                page|\n",
      "+--------------------+\n",
      "|              Cancel|\n",
      "|    Submit Downgrade|\n",
      "|         Thumbs Down|\n",
      "|                Home|\n",
      "|           Downgrade|\n",
      "|         Roll Advert|\n",
      "|              Logout|\n",
      "|       Save Settings|\n",
      "|Cancellation Conf...|\n",
      "|               About|\n",
      "| Submit Registration|\n",
      "|            Settings|\n",
      "|               Login|\n",
      "|            Register|\n",
      "|     Add to Playlist|\n",
      "|          Add Friend|\n",
      "|            NextSong|\n",
      "|           Thumbs Up|\n",
      "|                Help|\n",
      "|             Upgrade|\n",
      "+--------------------+\n",
      "only showing top 20 rows\n",
      "\n"
     ]
    }
   ],
   "source": [
    "df.select('page').distinct().show()"
   ]
  },
  {
   "cell_type": "code",
   "execution_count": 67,
   "metadata": {
    "scrolled": true
   },
   "outputs": [
    {
     "name": "stdout",
     "output_type": "stream",
     "text": [
      "+-------+-----------------+\n",
      "|summary|           length|\n",
      "+-------+-----------------+\n",
      "|  count|           228108|\n",
      "|   mean|249.1171819778458|\n",
      "| stddev|99.23517921058361|\n",
      "|    min|          0.78322|\n",
      "|    max|       3024.66567|\n",
      "+-------+-----------------+\n",
      "\n"
     ]
    }
   ],
   "source": [
    "df.select('length').describe().show()"
   ]
  },
  {
   "cell_type": "code",
   "execution_count": 68,
   "metadata": {
    "scrolled": true
   },
   "outputs": [
    {
     "data": {
      "text/plain": [
       "(array([ 0,  1,  2,  3,  4,  5,  6,  7,  8,  9, 10, 11, 12, 13, 14, 15, 16,\n",
       "        17, 18, 19, 20, 21]), <a list of 22 Text xticklabel objects>)"
      ]
     },
     "execution_count": 68,
     "metadata": {},
     "output_type": "execute_result"
    },
    {
     "data": {
      "image/png": "[encoded data removed]",
      "text/plain": [
       "<matplotlib.figure.Figure at 0x7ff7c0327828>"
      ]
     },
     "metadata": {
      "needs_background": "light"
     },
     "output_type": "display_data"
    }
   ],
   "source": [
    "activity = df.select('page')\\\n",
    ".groupBy('page')\\\n",
    ".agg({'page': 'count'})\\\n",
    ".sort(desc('count(page)')).withColumnRenamed('count(page)', 'Activity')\\\n",
    ".toPandas()\n",
    "\n",
    "sns.barplot('page', 'Activity', data= activity, palette = 'BuGn_r')\n",
    "plt.title('Page by Activity Count')\n",
    "plt.xticks(rotation = 90)"
   ]
  },
  {
   "cell_type": "markdown",
   "metadata": {},
   "source": [
    "## Create Churn Variable and Run Refined Exploratory Analysis"
   ]
  },
  {
   "cell_type": "code",
   "execution_count": 69,
   "metadata": {},
   "outputs": [],
   "source": [
    "churn_flag = udf(lambda x: 1 if x == 'Cancellation Confirmation' else 0, IntegerType())\n",
    "df = df.withColumn('isChurn', churn_flag('page'))\n",
    "windowval = Window.partitionBy(\"userId\").orderBy(desc(\"ts\")).rangeBetween(Window.unboundedPreceding, 0)\n",
    "df = df.withColumn(\"isChurn\", Fsum(\"isChurn\").over(windowval))"
   ]
  },
  {
   "cell_type": "code",
   "execution_count": 70,
   "metadata": {},
   "outputs": [],
   "source": [
    "# Create temporary view for data manipulation and exploration usign SQL\n",
    "df.createOrReplaceTempView(\"sparkify_churn_data\")"
   ]
  },
  {
   "cell_type": "code",
   "execution_count": 71,
   "metadata": {
    "scrolled": false
   },
   "outputs": [],
   "source": [
    "# Total churned users\n",
    "churn_distribution = sc.sql(\"Select isChurn, count(distinct userId) as totalUsers from sparkify_churn_data \\\n",
    "group by isChurn\").toPandas()"
   ]
  },
  {
   "cell_type": "code",
   "execution_count": 72,
   "metadata": {},
   "outputs": [
    {
     "data": {
      "text/html": [
       "<div>\n",
       "<style scoped>\n",
       "    .dataframe tbody tr th:only-of-type {\n",
       "        vertical-align: middle;\n",
       "    }\n",
       "\n",
       "    .dataframe tbody tr th {\n",
       "        vertical-align: top;\n",
       "    }\n",
       "\n",
       "    .dataframe thead th {\n",
       "        text-align: right;\n",
       "    }\n",
       "</style>\n",
       "<table border=\"1\" class=\"dataframe\">\n",
       "  <thead>\n",
       "    <tr style=\"text-align: right;\">\n",
       "      <th></th>\n",
       "      <th>isChurn</th>\n",
       "      <th>totalUsers</th>\n",
       "    </tr>\n",
       "  </thead>\n",
       "  <tbody>\n",
       "    <tr>\n",
       "      <th>0</th>\n",
       "      <td>0</td>\n",
       "      <td>174</td>\n",
       "    </tr>\n",
       "    <tr>\n",
       "      <th>1</th>\n",
       "      <td>1</td>\n",
       "      <td>52</td>\n",
       "    </tr>\n",
       "  </tbody>\n",
       "</table>\n",
       "</div>"
      ],
      "text/plain": [
       "   isChurn  totalUsers\n",
       "0        0         174\n",
       "1        1          52"
      ]
     },
     "execution_count": 72,
     "metadata": {},
     "output_type": "execute_result"
    }
   ],
   "source": [
    "churn_distribution"
   ]
  },
  {
   "cell_type": "code",
   "execution_count": 73,
   "metadata": {},
   "outputs": [
    {
     "data": {
      "text/plain": [
       "Text(0.5,1,'Churned Customer Distribution')"
      ]
     },
     "execution_count": 73,
     "metadata": {},
     "output_type": "execute_result"
    },
    {
     "data": {
      "image/png": "[encoded data removed]",
      "text/plain": [
       "<matplotlib.figure.Figure at 0x7ff7c0330b70>"
      ]
     },
     "metadata": {
      "needs_background": "light"
     },
     "output_type": "display_data"
    }
   ],
   "source": [
    "sns.barplot('isChurn', 'totalUsers', data= churn_distribution)\n",
    "plt.title('Churned Customer Distribution')"
   ]
  },
  {
   "cell_type": "markdown",
   "metadata": {},
   "source": [
    "## Gender Distribution"
   ]
  },
  {
   "cell_type": "code",
   "execution_count": 74,
   "metadata": {},
   "outputs": [],
   "source": [
    "# Gender Distribution by Churn\n",
    "gender_dist = sc.sql('Select isChurn, gender, count( distinct userId) from sparkify_churn_data \\\n",
    "group by isChurn, gender').withColumnRenamed('count(DISTINCT userId)', 'Volume').toPandas()"
   ]
  },
  {
   "cell_type": "code",
   "execution_count": 75,
   "metadata": {},
   "outputs": [
    {
     "data": {
      "text/plain": [
       "Text(0.5,1,'Churned Customer Distribution by Gender')"
      ]
     },
     "execution_count": 75,
     "metadata": {},
     "output_type": "execute_result"
    },
    {
     "data": {
      "image/png": "[encoded data removed]",
      "text/plain": [
       "<matplotlib.figure.Figure at 0x7ff7c0226860>"
      ]
     },
     "metadata": {
      "needs_background": "light"
     },
     "output_type": "display_data"
    }
   ],
   "source": [
    "sns.barplot('isChurn', 'Volume', hue = 'gender', data= gender_dist)\n",
    "plt.title('Churned Customer Distribution by Gender')"
   ]
  },
  {
   "cell_type": "markdown",
   "metadata": {},
   "source": [
    "## Average Skipped Songs"
   ]
  },
  {
   "cell_type": "code",
   "execution_count": 76,
   "metadata": {},
   "outputs": [],
   "source": [
    "# Skipped Songs by Churn\n",
    "skipped_songs = sc.sql(\"Select isChurn, count(page)/count(distinct userId) avgSkippedSongs from sparkify_churn_data \\\n",
    "where page = 'NextSong' \\\n",
    "group by isChurn\").toPandas()"
   ]
  },
  {
   "cell_type": "code",
   "execution_count": 77,
   "metadata": {},
   "outputs": [
    {
     "data": {
      "text/plain": [
       "Text(0.5,1,'Avg. Skipped Songs by Customer Type')"
      ]
     },
     "execution_count": 77,
     "metadata": {},
     "output_type": "execute_result"
    },
    {
     "data": {
      "image/png": "[encoded data removed]",
      "text/plain": [
       "<matplotlib.figure.Figure at 0x7ff7c0bef390>"
      ]
     },
     "metadata": {
      "needs_background": "light"
     },
     "output_type": "display_data"
    }
   ],
   "source": [
    "sns.barplot('isChurn', 'avgSkippedSongs', data= skipped_songs)\n",
    "plt.title('Avg. Skipped Songs by Customer Type')"
   ]
  },
  {
   "cell_type": "markdown",
   "metadata": {},
   "source": [
    "## Average Sessions"
   ]
  },
  {
   "cell_type": "code",
   "execution_count": 78,
   "metadata": {},
   "outputs": [],
   "source": [
    "sessions = sc.sql('Select isChurn, count(sessionId)/count(distinct userId) avgSessions from sparkify_churn_data \\\n",
    "group by isChurn').toPandas()"
   ]
  },
  {
   "cell_type": "code",
   "execution_count": 79,
   "metadata": {},
   "outputs": [
    {
     "data": {
      "text/plain": [
       "Text(0.5,1,'Avg. Sessions by Customer Type')"
      ]
     },
     "execution_count": 79,
     "metadata": {},
     "output_type": "execute_result"
    },
    {
     "data": {
      "image/png": "[encoded data removed]",
      "text/plain": [
       "<matplotlib.figure.Figure at 0x7ff7c01bb630>"
      ]
     },
     "metadata": {
      "needs_background": "light"
     },
     "output_type": "display_data"
    }
   ],
   "source": [
    "sns.barplot('isChurn', 'avgSessions', data= sessions)\n",
    "plt.title('Avg. Sessions by Customer Type')"
   ]
  },
  {
   "cell_type": "markdown",
   "metadata": {},
   "source": [
    "## Average Thumbs Up"
   ]
  },
  {
   "cell_type": "code",
   "execution_count": 80,
   "metadata": {},
   "outputs": [],
   "source": [
    "# Thumbs Up\n",
    "thumbs_up = sc.sql(\"Select isChurn, count(page)/count(distinct userId) avgThumbsUp from sparkify_churn_data \\\n",
    "where page = 'Thumbs Up' \\\n",
    "group by isChurn\").toPandas()"
   ]
  },
  {
   "cell_type": "code",
   "execution_count": 81,
   "metadata": {
    "scrolled": true
   },
   "outputs": [
    {
     "data": {
      "text/plain": [
       "Text(0.5,1,'Avg. Thumbs Up by Customer Type')"
      ]
     },
     "execution_count": 81,
     "metadata": {},
     "output_type": "execute_result"
    },
    {
     "data": {
      "image/png": "[encoded data removed]",
      "text/plain": [
       "<matplotlib.figure.Figure at 0x7ff7c0c011d0>"
      ]
     },
     "metadata": {
      "needs_background": "light"
     },
     "output_type": "display_data"
    }
   ],
   "source": [
    "sns.barplot('isChurn', 'avgThumbsUp', data= thumbs_up)\n",
    "plt.title('Avg. Thumbs Up by Customer Type')"
   ]
  },
  {
   "cell_type": "markdown",
   "metadata": {},
   "source": [
    "## Average Thumbs Down"
   ]
  },
  {
   "cell_type": "code",
   "execution_count": 82,
   "metadata": {},
   "outputs": [],
   "source": [
    "# Thumbs Down\n",
    "thumbs_down = sc.sql(\"Select isChurn, count(page)/count(distinct userId) avgThumbsDown from sparkify_churn_data \\\n",
    "where page = 'Thumbs Down' \\\n",
    "group by isChurn\").toPandas()"
   ]
  },
  {
   "cell_type": "code",
   "execution_count": 83,
   "metadata": {},
   "outputs": [
    {
     "data": {
      "text/plain": [
       "Text(0.5,1,'Avg. Thumbs Down by Customer Type')"
      ]
     },
     "execution_count": 83,
     "metadata": {},
     "output_type": "execute_result"
    },
    {
     "data": {
      "image/png": "[encoded data removed]",
      "text/plain": [
       "<matplotlib.figure.Figure at 0x7ff7c00f7550>"
      ]
     },
     "metadata": {
      "needs_background": "light"
     },
     "output_type": "display_data"
    }
   ],
   "source": [
    "sns.barplot('isChurn', 'avgThumbsDown', data= thumbs_down)\n",
    "plt.title('Avg. Thumbs Down by Customer Type')"
   ]
  },
  {
   "cell_type": "markdown",
   "metadata": {},
   "source": [
    "## Average Additions to Playlist"
   ]
  },
  {
   "cell_type": "code",
   "execution_count": 84,
   "metadata": {},
   "outputs": [],
   "source": [
    "# Thumbs Up\n",
    "playlist = sc.sql(\"Select isChurn, count(page)/count(distinct userId) avgPlaylistAdds from sparkify_churn_data \\\n",
    "where page = 'Add to Playlist' \\\n",
    "group by isChurn\").toPandas()"
   ]
  },
  {
   "cell_type": "code",
   "execution_count": 85,
   "metadata": {},
   "outputs": [
    {
     "data": {
      "text/plain": [
       "Text(0.5,1,'Avg. Playlist Adds by Customer Type')"
      ]
     },
     "execution_count": 85,
     "metadata": {},
     "output_type": "execute_result"
    },
    {
     "data": {
      "image/png": "[encoded data removed]",
      "text/plain": [
       "<matplotlib.figure.Figure at 0x7ff7c00b4470>"
      ]
     },
     "metadata": {
      "needs_background": "light"
     },
     "output_type": "display_data"
    }
   ],
   "source": [
    "sns.barplot('isChurn', 'avgPlaylistAdds', data= playlist)\n",
    "plt.title('Avg. Playlist Adds by Customer Type')"
   ]
  },
  {
   "cell_type": "markdown",
   "metadata": {},
   "source": [
    "## Average Friends Added"
   ]
  },
  {
   "cell_type": "code",
   "execution_count": 86,
   "metadata": {},
   "outputs": [],
   "source": [
    "# Friends added\n",
    "friends = sc.sql(\"Select isChurn, count(page)/count(distinct userId) avgFriends from sparkify_churn_data \\\n",
    "where page = 'Add Friend' \\\n",
    "group by isChurn\").toPandas()"
   ]
  },
  {
   "cell_type": "code",
   "execution_count": 87,
   "metadata": {
    "scrolled": false
   },
   "outputs": [
    {
     "data": {
      "text/plain": [
       "Text(0.5,1,'Avg. Friends Added by Customer Type')"
      ]
     },
     "execution_count": 87,
     "metadata": {},
     "output_type": "execute_result"
    },
    {
     "data": {
      "image/png": "[encoded data removed]",
      "text/plain": [
       "<matplotlib.figure.Figure at 0x7ff7c0075550>"
      ]
     },
     "metadata": {
      "needs_background": "light"
     },
     "output_type": "display_data"
    }
   ],
   "source": [
    "sns.barplot('isChurn', 'avgFriends', data= friends)\n",
    "plt.title('Avg. Friends Added by Customer Type')"
   ]
  },
  {
   "cell_type": "markdown",
   "metadata": {},
   "source": [
    "## Average Session Length"
   ]
  },
  {
   "cell_type": "code",
   "execution_count": 88,
   "metadata": {},
   "outputs": [],
   "source": [
    "sess_length = sc.sql('Select isChurn, (sum(length)/count(distinct sessionId))/3600 avgSessionLength from sparkify_churn_data \\\n",
    "group by isChurn').toPandas()"
   ]
  },
  {
   "cell_type": "code",
   "execution_count": 89,
   "metadata": {},
   "outputs": [
    {
     "data": {
      "text/html": [
       "<div>\n",
       "<style scoped>\n",
       "    .dataframe tbody tr th:only-of-type {\n",
       "        vertical-align: middle;\n",
       "    }\n",
       "\n",
       "    .dataframe tbody tr th {\n",
       "        vertical-align: top;\n",
       "    }\n",
       "\n",
       "    .dataframe thead th {\n",
       "        text-align: right;\n",
       "    }\n",
       "</style>\n",
       "<table border=\"1\" class=\"dataframe\">\n",
       "  <thead>\n",
       "    <tr style=\"text-align: right;\">\n",
       "      <th></th>\n",
       "      <th>isChurn</th>\n",
       "      <th>avgSessionLength</th>\n",
       "    </tr>\n",
       "  </thead>\n",
       "  <tbody>\n",
       "    <tr>\n",
       "      <th>0</th>\n",
       "      <td>0</td>\n",
       "      <td>5.813121</td>\n",
       "    </tr>\n",
       "    <tr>\n",
       "      <th>1</th>\n",
       "      <td>1</td>\n",
       "      <td>5.370811</td>\n",
       "    </tr>\n",
       "  </tbody>\n",
       "</table>\n",
       "</div>"
      ],
      "text/plain": [
       "   isChurn  avgSessionLength\n",
       "0        0          5.813121\n",
       "1        1          5.370811"
      ]
     },
     "execution_count": 89,
     "metadata": {},
     "output_type": "execute_result"
    }
   ],
   "source": [
    "sess_length"
   ]
  },
  {
   "cell_type": "code",
   "execution_count": 90,
   "metadata": {
    "scrolled": true
   },
   "outputs": [
    {
     "data": {
      "text/plain": [
       "Text(0.5,1,'Avg. Session Length in Hours by Customer Type')"
      ]
     },
     "execution_count": 90,
     "metadata": {},
     "output_type": "execute_result"
    },
    {
     "data": {
      "image/png": "[encoded data removed]",
      "text/plain": [
       "<matplotlib.figure.Figure at 0x7ff7bbf97d30>"
      ]
     },
     "metadata": {
      "needs_background": "light"
     },
     "output_type": "display_data"
    }
   ],
   "source": [
    "sns.barplot('isChurn', 'avgSessionLength', data= sess_length)\n",
    "plt.title('Avg. Session Length in Hours by Customer Type')"
   ]
  },
  {
   "cell_type": "markdown",
   "metadata": {},
   "source": [
    "## Songs"
   ]
  },
  {
   "cell_type": "code",
   "execution_count": 91,
   "metadata": {},
   "outputs": [
    {
     "name": "stdout",
     "output_type": "stream",
     "text": [
      "+-------+--------------------+------+\n",
      "|isChurn|                song|volume|\n",
      "+-------+--------------------+------+\n",
      "|      1|      You're The One|   184|\n",
      "|      1|                Undo|   155|\n",
      "|      1|             Revelry|   135|\n",
      "|      1|       Sehr kosmisch|   126|\n",
      "|      1|Horn Concerto No....|    99|\n",
      "|      1|Dog Days Are Over...|    96|\n",
      "|      1|        Use Somebody|    76|\n",
      "|      1|             Invalid|    72|\n",
      "|      1|    Ain't Misbehavin|    70|\n",
      "|      1|SinceritÃÂ© Et J...|    69|\n",
      "|      1|              Canada|    67|\n",
      "|      1|    Somebody To Love|    64|\n",
      "|      1|       ReprÃÂ©sente|    63|\n",
      "|      1|             Secrets|    62|\n",
      "|      1|Catch You Baby (S...|    61|\n",
      "|      1|          Love Story|    55|\n",
      "|      1|    Hey_ Soul Sister|    54|\n",
      "|      1|    Bring Me To Life|    52|\n",
      "|      1|           Fireflies|    52|\n",
      "|      1|            The Gift|    52|\n",
      "+-------+--------------------+------+\n",
      "\n"
     ]
    }
   ],
   "source": [
    "sc.sql('Select isChurn, song, count(song) volume from sparkify_churn_data \\\n",
    "where isChurn = 1 \\\n",
    "group by isChurn, song \\\n",
    "order by volume desc \\\n",
    "limit 20').show()"
   ]
  },
  {
   "cell_type": "markdown",
   "metadata": {},
   "source": [
    "# Feature Engineering\n",
    "Once you've familiarized yourself with the data, build out the features you find promising to train your model on. To work with the full dataset, you can follow the following steps.\n",
    "- Write a script to extract the necessary features from the smaller subset of data\n",
    "- Ensure that your script is scalable, using the best practices discussed in Lesson 3\n",
    "- Try your script on the full data set, debugging your script if necessary\n",
    "\n",
    "If you are working in the classroom workspace, you can just extract features based on the small subset of data contained here. Be sure to transfer over this work to the larger dataset when you work on your Spark cluster."
   ]
  },
  {
   "cell_type": "code",
   "execution_count": 92,
   "metadata": {},
   "outputs": [],
   "source": [
    "def create_page_features(df):\n",
    "    \n",
    "    \"\"\" Creates features based on several of the values from the page variable\n",
    "    \n",
    "    Args:\n",
    "    df: Spark Dataframe\n",
    "    \n",
    "    Returns:\n",
    "    page_features: list of Spark Dataframes with page counts\n",
    "    \"\"\"\n",
    "    \n",
    "    pages = ['Next Song', 'Add Friend', 'Thumbs Up', 'Thumbs Down', 'Add to Playlist']\n",
    "    renamed_columns = ['skippedSongs', 'friendsAdded', 'thumbsUp', 'thumbsDown', 'playlistAdditions']\n",
    "    page_features = []\n",
    "    \n",
    "    for page, renamed_col in zip(pages , renamed_columns):\n",
    "        var = df.select('userId', 'page')\\\n",
    "        .groupby('userId', 'page')\\\n",
    "        .agg({'page' : 'count'})\\\n",
    "        .filter(df.page == page)\\\n",
    "        .withColumnRenamed('count(page)', renamed_col)\n",
    "        page_features.append(var)\n",
    "        \n",
    "    return page_features"
   ]
  },
  {
   "cell_type": "code",
   "execution_count": 93,
   "metadata": {},
   "outputs": [],
   "source": [
    "def create_features(df):\n",
    "    \"\"\" Creates all features for modelling and returns a new dataframe with each unique user as an instance\n",
    "    Args:\n",
    "    df: Spark dataframe with raw data\n",
    "    \n",
    "    Return:\n",
    "    engineered_df: Spark dataframe with unique users and their engineered features showcasing user behavior\n",
    "    \"\"\"\n",
    "    \n",
    "    # Create gender feature\n",
    "    male_flag = udf(lambda x: 1 if x == 'M' else 0, IntegerType())\n",
    "    df = df.withColumn('isMale', male_flag('gender'))\n",
    "    \n",
    "    # Create page features\n",
    "    features = create_page_features(df)\n",
    "    \n",
    "    # Count total sessions\n",
    "    sessions = df.select('userId', 'sessionId').\\\n",
    "    groupBy('userId').\\\n",
    "    agg({'sessionId': 'count'}).\\\n",
    "    withColumnRenamed('count(sessionId)', 'totalSessions')\n",
    "    \n",
    "    # Sum total Length\n",
    "    total_length = df.select('userId', 'length').\\\n",
    "    groupBy('userId').\\\n",
    "    agg({'length': 'sum'}).\\\n",
    "    withColumnRenamed('sum(length)', 'totalLength')\n",
    "    \n",
    "    # Put all features together\n",
    "    features.extend([sessions, total_length])\n",
    "    \n",
    "    for i in features:\n",
    "        df = df.join(i, on = ['userId'], how = 'outer')\n",
    "    \n",
    "    engineered_df = df.select('userId', 'isChurn', 'isMale', 'thumbsUp', 'thumbsDown', 'playlistAdditions', \n",
    "          'totalSessions', 'totalLength', 'friendsAdded', 'skippedSongs').dropDuplicates()\n",
    "\n",
    "    return engineered_df"
   ]
  },
  {
   "cell_type": "code",
   "execution_count": 94,
   "metadata": {},
   "outputs": [],
   "source": [
    "new_df = create_features(df)\n",
    "new_df = new_df.fillna(0)"
   ]
  },
  {
   "cell_type": "code",
   "execution_count": 95,
   "metadata": {
    "scrolled": true
   },
   "outputs": [],
   "source": [
    "# https://stackoverflow.com/questions/40337744/scalenormalise-a-column-in-spark-dataframe-pyspark\n",
    "for i in ['thumbsUp', 'thumbsDown', 'playlistAdditions', 'totalSessions', 'totalLength', 'friendsAdded', 'skippedSongs']:\n",
    "    # VectorAssembler Transformation - Converting column to vector type\n",
    "    assembler = VectorAssembler(inputCols=[i],outputCol=i+\"_Vect\")\n",
    "\n",
    "    # MinMaxScaler Transformation\n",
    "    scaler = MinMaxScaler(inputCol=i+\"_Vect\", outputCol=i+\"_Scaled\")\n",
    "\n",
    "    # Pipeline of VectorAssembler and MinMaxScaler\n",
    "    pipeline = Pipeline(stages=[assembler, scaler])\n",
    "\n",
    "    # Fitting pipeline on dataframe\n",
    "    new_df = pipeline.fit(new_df).transform(new_df).drop(i+\"_Vect\")\n",
    "\n"
   ]
  },
  {
   "cell_type": "code",
   "execution_count": 96,
   "metadata": {},
   "outputs": [],
   "source": [
    "all_feat_assembler = VectorAssembler(inputCols=['thumbsUp_Scaled', 'thumbsDown_Scaled', 'playlistAdditions_Scaled', \n",
    "                                                'totalSessions_Scaled', 'totalLength_Scaled', 'friendsAdded_Scaled', \n",
    "                                                'skippedSongs_Scaled','isMale'],outputCol=\"features\")\n",
    "new_df = all_feat_assembler.transform(new_df)"
   ]
  },
  {
   "cell_type": "code",
   "execution_count": 20,
   "metadata": {},
   "outputs": [],
   "source": [
    "# features = df.select('userId', 'isChurn', 'isMale', 'thumbsUp', 'thumbsDown', 'playlistAdditions', \n",
    "#           'totalSessions', 'totalLength', 'friendsAdded', 'skippedSongs').dropDuplicates()"
   ]
  },
  {
   "cell_type": "markdown",
   "metadata": {},
   "source": [
    "# Modeling\n",
    "Split the full dataset into train, test, and validation sets. Test out several of the machine learning methods you learned. Evaluate the accuracy of the various models, tuning parameters as necessary. Determine your winning model based on test accuracy and report results on the validation set. Since the churned users are a fairly small subset, I suggest using F1 score as the metric to optimize."
   ]
  },
  {
   "cell_type": "code",
   "execution_count": 97,
   "metadata": {},
   "outputs": [],
   "source": [
    "new_df = new_df.select(new_df['isChurn'].alias('label'),new_df['features'])"
   ]
  },
  {
   "cell_type": "code",
   "execution_count": 125,
   "metadata": {
    "scrolled": true
   },
   "outputs": [
    {
     "name": "stdout",
     "output_type": "stream",
     "text": [
      "Training Dataset Count: 166\n",
      "Test Dataset Count: 60\n"
     ]
    }
   ],
   "source": [
    "train, test = new_df.randomSplit([0.7, 0.3], seed = 42)\n",
    "sub_test, validation = test.randomSplit([0.5, 0.5], seed = 42)\n",
    "print(\"Training Dataset Count: \" + str(train.count()))\n",
    "print(\"Test Dataset Count: \" + str(test.count()))"
   ]
  },
  {
   "cell_type": "code",
   "execution_count": 138,
   "metadata": {},
   "outputs": [
    {
     "name": "stdout",
     "output_type": "stream",
     "text": [
      "Logistic Regression F1-Score: 66.54\n"
     ]
    }
   ],
   "source": [
    "rf_clf = RandomForestClassifier()\n",
    "rf_fitted_model = rf_clf.fit(train)\n",
    "evaluator =  MulticlassClassificationEvaluator(metricName = 'f1')\n",
    "predictions = rf_fitted_model.transform(test)\n",
    "f1_score = evaluator.evaluate(predictions)\n",
    "print('Random Forest F1-Score: {}'.format(round(f1_score*100,2)))"
   ]
  },
  {
   "cell_type": "code",
   "execution_count": 139,
   "metadata": {},
   "outputs": [
    {
     "name": "stdout",
     "output_type": "stream",
     "text": [
      "GBT F1-Score: 64.58\n"
     ]
    }
   ],
   "source": [
    "gbt_clf = GBTClassifier(featuresCol = 'features', labelCol = \"label\", maxIter = 10, maxDepth = 10, seed = 42)\n",
    "gbt_fitted_model = gbt_clf.fit(train)\n",
    "predictions = gbt_fitted_model.transform(test)\n",
    "evaluator = MulticlassClassificationEvaluator(metricName = 'f1')\n",
    "gbt_f1_score = evaluator.evaluate(predictions)\n",
    "print('GBT F1-Score: {}'.format(round(gbt_f1_score*100,2)))"
   ]
  },
  {
   "cell_type": "code",
   "execution_count": 140,
   "metadata": {},
   "outputs": [
    {
     "name": "stdout",
     "output_type": "stream",
     "text": [
      "Logistic Regression F1-Score: 66.54\n"
     ]
    }
   ],
   "source": [
    "lr = LogisticRegression(featuresCol=\"features\", labelCol=\"label\", maxIter=10, regParam=0.01)\n",
    "lr_fitted_model = lr.fit(train)\n",
    "predictions = lr_fitted_model.transform(test)\n",
    "evaluator = MulticlassClassificationEvaluator(metricName = 'f1')\n",
    "lr_f1_score = evaluator.evaluate(predictions)\n",
    "print('Logistic Regression F1-Score: {}'.format(round(lr_f1_score*100,2)))"
   ]
  },
  {
   "cell_type": "code",
   "execution_count": 141,
   "metadata": {},
   "outputs": [
    {
     "name": "stdout",
     "output_type": "stream",
     "text": [
      "SVM F1-Score: 66.54\n"
     ]
    }
   ],
   "source": [
    "svm = LinearSVC(featuresCol=\"features\", labelCol=\"label\", maxIter=10, regParam=0.1)\n",
    "svm_fitted_model = svm.fit(train)\n",
    "predictions = svm_fitted_model.transform(test)\n",
    "evaluator = MulticlassClassificationEvaluator(metricName = 'f1')\n",
    "svm_f1_score = evaluator.evaluate(predictions)\n",
    "print('SVM F1-Score: {}'.format(round(svm_f1_score*100,2)))"
   ]
  },
  {
   "cell_type": "code",
   "execution_count": null,
   "metadata": {},
   "outputs": [],
   "source": [
    "## Hyperparameter tuning with Random Forest"
   ]
  },
  {
   "cell_type": "code",
   "execution_count": 153,
   "metadata": {},
   "outputs": [],
   "source": [
    "rf = RandomForestClassifier(featuresCol=\"features\", labelCol=\"label\")\n",
    "\n",
    "paramGrid = ParamGridBuilder().\\\n",
    "            addGrid(rf.numTrees, [10, 20, 30]).\\\n",
    "            build()\n",
    "\n",
    "cross_val_rf = CrossValidator(estimator = gbt_clf, estimatorParamMaps = paramGrid, \n",
    "                              evaluator = MulticlassClassificationEvaluator(metricName = 'f1'), numFolds = 5)\n"
   ]
  },
  {
   "cell_type": "code",
   "execution_count": null,
   "metadata": {},
   "outputs": [],
   "source": [
    "rf_model = cross_val_rf.fit(train)"
   ]
  },
  {
   "cell_type": "markdown",
   "metadata": {},
   "source": [
    "# Final Steps\n",
    "Clean up your code, adding comments and renaming variables to make the code easier to read and maintain. Refer to the Spark Project Overview page and Data Scientist Capstone Project Rubric to make sure you are including all components of the capstone project and meet all expectations. Remember, this includes thorough documentation in a README file in a Github repository, as well as a web app or blog post."
   ]
  }
 ],
 "metadata": {
  "kernelspec": {
   "display_name": "Python 3",
   "language": "python",
   "name": "python3"
  },
  "language_info": {
   "codemirror_mode": {
    "name": "ipython",
    "version": 3
   },
   "file_extension": ".py",
   "mimetype": "text/x-python",
   "name": "python",
   "nbconvert_exporter": "python",
   "pygments_lexer": "ipython3",
   "version": "3.6.3"
  }
 },
 "nbformat": 4,
 "nbformat_minor": 2
}
